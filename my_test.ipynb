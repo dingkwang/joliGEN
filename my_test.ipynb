{
 "cells": [
  {
   "cell_type": "code",
   "execution_count": null,
   "metadata": {},
   "outputs": [],
   "source": [
    "!python train.py \\\n",
    "        --dataroot /home/dwang/sci/VTON/joliGEN/datasets/vton \\\n",
    "        --checkpoints_dir ~/checkpoints/ \\\n",
    "        --name VITON-HD \\\n",
    "        --gpu_ids 0 \\\n",
    "        --model_type palette \\\n",
    "        --train_batch_size 2 \\\n",
    "        --data_num_threads 16 \\\n",
    "        --train_iter_size 1 \\\n",
    "        --model_input_nc 3 \\\n",
    "        --model_output_nc 3 \\\n",
    "        --data_relative_paths \\\n",
    "        --train_G_ema \\\n",
    "        --train_optim adamw \\\n",
    "        --data_dataset_mode self_supervised_labeled_mask \\\n",
    "        --data_load_size 256 \\\n",
    "        --data_crop_size 256 \\\n",
    "        --G_netG unet_mha \\\n",
    "        --data_online_creation_rand_mask_A \\\n",
    "        --train_G_lr 0.0001 \\\n",
    "        --train_n_epochs 100 \\\n",
    "        --dataaug_no_rotate \\\n",
    "        --dataaug_no_flip \\\n",
    "        --output_display_freq 20000 \\\n",
    "        --output_print_freq 500 \\\n",
    "        --output_display_visdom_autostart"
   ]
  }
 ],
 "metadata": {
  "language_info": {
   "name": "python"
  }
 },
 "nbformat": 4,
 "nbformat_minor": 2
}
