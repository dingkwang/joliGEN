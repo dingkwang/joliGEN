{
 "cells": [
  {
   "cell_type": "code",
   "execution_count": null,
   "metadata": {},
   "outputs": [],
   "source": [
    "!python train.py \\\n",
    "        --dataroot /home/dwang/sci/VTON/joliGEN/datasets/vton \\\n",
    "        --checkpoints_dir ~/checkpoints/ \\\n",
    "        --name VITON-HD \\\n",
    "        --gpu_ids 0 \\\n",
    "        --model_type palette \\\n",
    "        --train_batch_size 2 \\\n",
    "        --data_num_threads 16 \\\n",
    "        --train_iter_size 1 \\\n",
    "        --model_input_nc 3 \\\n",
    "        --model_output_nc 3 \\\n",
    "        --data_relative_paths \\\n",
    "        --train_G_ema \\\n",
    "        --train_optim adamw \\\n",
    "        --data_dataset_mode self_supervised_labeled_mask \\\n",
    "        --data_load_size 256 \\\n",
    "        --data_crop_size 256 \\\n",
    "        --G_netG unet_mha \\\n",
    "        --data_online_creation_rand_mask_A \\\n",
    "        --train_G_lr 0.0001 \\\n",
    "        --train_n_epochs 100 \\\n",
    "        --dataaug_no_rotate \\\n",
    "        --dataaug_no_flip \\\n",
    "        --output_display_freq 20000 \\\n",
    "        --output_print_freq 500 \\\n",
    "        --output_display_visdom_autostart"
   ]
  },
  {
   "cell_type": "code",
   "execution_count": null,
   "metadata": {},
   "outputs": [],
   "source": [
    "!python train.py --dataroot /home/dwang/sci/VTON/joliGEN/datasets/vton \\\n",
    "    --checkpoints_dir checkpoints --name unet_mha_ref_attn --gpu_ids 0 --model_type palette --train_batch_size 2 \\\n",
    "    --data_num_threads 16 --train_iter_size 1 --model_input_nc 3 --model_output_nc 3 \\\n",
    "    --data_relative_paths --train_G_ema --train_optim adamw --data_dataset_mode self_supervised_labeled_mask --data_load_size 256 \\\n",
    "    --data_crop_size 256 --G_netG unet_mha_ref_attn --data_online_creation_rand_mask_A --train_G_lr 0.0001 --train_n_epochs 100 \\\n",
    "    --dataaug_no_rotate --dataaug_no_flip --output_display_freq 20000 --output_print_freq 500 --output_display_visdom_autostart --alg_palette_conditioning \"\" --alg_palette_cond_image_creation y_t"
   ]
  }
 ],
 "metadata": {
  "language_info": {
   "name": "python"
  }
 },
 "nbformat": 4,
 "nbformat_minor": 2
}
