{
 "cells": [
  {
   "cell_type": "code",
   "execution_count": null,
   "metadata": {},
   "outputs": [],
   "source": [
    "!python3 train.py  --G_netG unet_mha_ref_attn \\\n",
    "    --data_dataset_mode self_supervised_labeled_mask_online_ref \\\n",
    "    --model_type palette --alg_palette_conditioning \"\"  \\\n",
    "    --alg_palette_cond_image_creation y_t"
   ]
  },
  {
   "cell_type": "code",
   "execution_count": null,
   "metadata": {},
   "outputs": [],
   "source": [
    "!python3 train.py \\\n",
    "     --dataroot ../VITON-HD_dataset/ \\\n",
    "     --checkpoints_dir ~/checkpoints/ \\\n",
    "     --name VITON-HD \\\n",
    "     --gpu_ids 0 \\\n",
    "     --model_type palette \\\n",
    "     --train_batch_size 8 \\\n",
    "     --data_num_threads 16 \\\n",
    "     --train_iter_size 1 \\\n",
    "     --model_input_nc 3 \\\n",
    "     --model_output_nc 3 \\\n",
    "     --data_relative_paths \\\n",
    "     --train_G_ema \\\n",
    "     --train_optim adamw \\\n",
    "     --data_dataset_mode self_supervised_labeled_mask \\\n",
    "     --data_load_size 256 \\\n",
    "     --data_crop_size 256 \\\n",
    "     --G_netG unet_mha \\\n",
    "     --data_online_creation_rand_mask_A \\\n",
    "     --train_G_lr 0.0001 \\\n",
    "     --train_n_epochs 100 \\\n",
    "     --dataaug_no_rotate \\\n",
    "     --dataaug_no_flip \\\n",
    "     --output_display_freq 20000 \\\n",
    "     --output_print_freq 500 \\\n",
    "     --output_display_visdom_autostart\n",
    "     "
   ]
  },
  {
   "cell_type": "code",
   "execution_count": null,
   "metadata": {},
   "outputs": [],
   "source": [
    "!python3 train.py  --G_netG unet_mha_ref_attn \\\n",
    "    --data_dataset_mode self_supervised_labeled_mask_online_ref \\\n",
    "    --model_type palette --alg_palette_conditioning \"\"  \\\n",
    "    --alg_palette_cond_image_creation y_t\\\n",
    "    --dataroot ../VITON-HD_dataset_2/\n",
    "    --data_relative_paths"
   ]
  }
 ],
 "metadata": {
  "kernelspec": {
   "display_name": "dci-vton",
   "language": "python",
   "name": "python3"
  },
  "language_info": {
   "codemirror_mode": {
    "name": "ipython",
    "version": 3
   },
   "file_extension": ".py",
   "mimetype": "text/x-python",
   "name": "python",
   "nbconvert_exporter": "python",
   "pygments_lexer": "ipython3",
   "version": "3.8.5"
  }
 },
 "nbformat": 4,
 "nbformat_minor": 2
}
